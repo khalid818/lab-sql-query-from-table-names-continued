{
 "cells": [
  {
   "cell_type": "markdown",
   "id": "7d930c89-4954-4e39-be5a-601c1dd89512",
   "metadata": {
    "id": "7d930c89-4954-4e39-be5a-601c1dd89512"
   },
   "source": [
    "# SQL query from table names - Continued"
   ]
  },
  {
   "cell_type": "code",
   "execution_count": 1,
   "id": "a03f026a",
   "metadata": {
    "id": "a03f026a"
   },
   "outputs": [],
   "source": [
    "from openai import OpenAI\n",
    "import os\n",
    "from dotenv import load_dotenv, find_dotenv\n",
    "_ = load_dotenv(find_dotenv())\n",
    "\n",
    "OPENAI_API_KEY  = os.getenv('OPENAI_API_KEY')"
   ]
  },
  {
   "cell_type": "markdown",
   "id": "53a05b80-88fd-42b2-ba89-763074ae74e9",
   "metadata": {
    "id": "53a05b80-88fd-42b2-ba89-763074ae74e9"
   },
   "source": [
    "## The old Prompt"
   ]
  },
  {
   "cell_type": "code",
   "execution_count": 2,
   "id": "922f8d24",
   "metadata": {
    "id": "922f8d24"
   },
   "outputs": [],
   "source": [
    "#The old prompt\n",
    "old_context = [ {'role':'system', 'content':\"\"\"\n",
    "you are a bot to assist in create SQL commands, all your answers should start with \\\n",
    "this is your SQL, and after that an SQL that can do what the user request. \\\n",
    "Your Database is composed by a SQL database with some tables. \\\n",
    "Try to maintain the SQL order simple.\n",
    "Put the SQL command in white letters with a black background, and just after \\\n",
    "a simple and concise text explaining how it works.\n",
    "If the user ask for something that can not be solved with an SQL Order \\\n",
    "just answer something nice and simple, maximum 10 words, asking him for something that \\\n",
    "can be solved with SQL.\n",
    "\"\"\"} ]\n",
    "\n",
    "old_context.append( {'role':'system', 'content':\"\"\"\n",
    "first table:\n",
    "{\n",
    "  \"tableName\": \"employees\",\n",
    "  \"fields\": [\n",
    "    {\n",
    "      \"nombre\": \"ID_usr\",\n",
    "      \"tipo\": \"int\"\n",
    "    },\n",
    "    {\n",
    "      \"nombre\": \"name\",\n",
    "      \"tipo\": \"varchar\"\n",
    "    }\n",
    "  ]\n",
    "}\n",
    "\"\"\"\n",
    "})\n",
    "\n",
    "old_context.append( {'role':'system', 'content':\"\"\"\n",
    "second table:\n",
    "{\n",
    "  \"tableName\": \"salary\",\n",
    "  \"fields\": [\n",
    "    {\n",
    "      \"nombre\": \"ID_usr\",\n",
    "      \"type\": \"int\"\n",
    "    },\n",
    "    {\n",
    "      \"name\": \"year\",\n",
    "      \"type\": \"date\"\n",
    "    },\n",
    "    {\n",
    "      \"name\": \"salary\",\n",
    "      \"type\": \"float\"\n",
    "    }\n",
    "  ]\n",
    "}\n",
    "\"\"\"\n",
    "})\n",
    "\n",
    "old_context.append( {'role':'system', 'content':\"\"\"\n",
    "third table:\n",
    "{\n",
    "  \"tablename\": \"studies\",\n",
    "  \"fields\": [\n",
    "    {\n",
    "      \"name\": \"ID\",\n",
    "      \"type\": \"int\"\n",
    "    },\n",
    "    {\n",
    "      \"name\": \"ID_usr\",\n",
    "      \"type\": \"int\"\n",
    "    },\n",
    "    {\n",
    "      \"name\": \"educational_level\",\n",
    "      \"type\": \"int\"\n",
    "    },\n",
    "    {\n",
    "      \"name\": \"Institution\",\n",
    "      \"type\": \"varchar\"\n",
    "    },\n",
    "    {\n",
    "      \"name\": \"Years\",\n",
    "      \"type\": \"date\"\n",
    "    }\n",
    "    {\n",
    "      \"name\": \"Speciality\",\n",
    "      \"type\": \"varchar\"\n",
    "    }\n",
    "  ]\n",
    "}\n",
    "\"\"\"\n",
    "})"
   ]
  },
  {
   "cell_type": "markdown",
   "id": "377acaae-7dd0-4d13-bc68-9e33741c231c",
   "metadata": {
    "id": "377acaae-7dd0-4d13-bc68-9e33741c231c"
   },
   "source": [
    "## New Prompt.\n",
    "We are going to improve it following the instructions of a Paper from the Ohaio University: [How to Prompt LLMs for Text-to-SQL: A Study in Zero-shot, Single-domain, and Cross-domain Settings](https://arxiv.org/abs/2305.11853). I recommend you read that paper.\n",
    "\n",
    "For each table, we will define the structure using the same syntax as in a SQL create table command, and add the sample rows of the content.\n",
    "\n",
    "Finally, at the end of the prompt, we'll include some example queries with the SQL that the model should generate. This technique is called Few-Shot Samples, in which we provide the prompt with some examples to assist it in generating the correct SQL.\n"
   ]
  },
  {
   "cell_type": "code",
   "execution_count": 3,
   "id": "5334f942",
   "metadata": {
    "id": "5334f942"
   },
   "outputs": [],
   "source": [
    "context = [ {'role':'system', 'content':\"\"\"\n",
    "             You are an SQL assistant. Generate SQLite-compatible SQL queries based on user requests.\n",
    "             Here is the database schema:\n",
    "-- Table: employees\n",
    "CREATE TABLE employees (\n",
    "    ID_usr INT PRIMARY KEY,  -- Unique ID for each employee\n",
    "    name TEXT,                -- Name of the employee\n",
    "    department TEXT,          -- Department where the employee works\n",
    "    hire_date DATE,           -- Date when the employee joined the company\n",
    "    email TEXT,               -- Employee's email address\n",
    "    phone TEXT                -- Employee's phone number\n",
    ");\n",
    "\n",
    "INSERT INTO employees VALUES\n",
    "(1, 'Alice', 'HR', '2015-06-10', 'alice@example.com', '555-1234'),\n",
    "(2, 'Bob', 'Engineering', '2018-09-22', 'bob@example.com', '555-5678'),\n",
    "(3, 'Charlie', 'Sales', '2020-01-15', 'charlie@example.com', '555-9876'),\n",
    "(4, 'Diana', 'Marketing', '2019-05-30', 'diana@example.com', '555-2468');\n",
    "\n",
    "-- Table: salary\n",
    "CREATE TABLE salary (\n",
    "    ID_usr INT,              -- Employee ID from the employees table\n",
    "    year INT,                -- Year of salary information\n",
    "    base FLOAT,              -- Base salary of the employee\n",
    "    bonus FLOAT,             -- Bonus given to the employee\n",
    "    FOREIGN KEY (ID_usr) REFERENCES employees(ID_usr)  -- Links salary to employee\n",
    ");\n",
    "\n",
    "INSERT INTO salary VALUES\n",
    "(1, 2022, 50000, 1000),\n",
    "(2, 2022, 70000, 3000),\n",
    "(3, 2022, 60000, 1500),\n",
    "(4, 2022, 65000, 1200);\n",
    "\n",
    "-- Table: studies\n",
    "CREATE TABLE studies (\n",
    "    ID INT PRIMARY KEY,      -- Unique ID for each study record\n",
    "    ID_usr INT,              -- Employee ID linking to the employees table\n",
    "    degree TEXT,             -- Degree earned by the employee\n",
    "    institution TEXT,        -- Institution where the degree was obtained\n",
    "    graduation_year INT,     -- Year the employee graduated\n",
    "    major TEXT,              -- Major or field of study\n",
    "    FOREIGN KEY (ID_usr) REFERENCES employees(ID_usr)  -- Links studies to employee\n",
    ");\n",
    "\n",
    "INSERT INTO studies VALUES\n",
    "(1, 1, 'BA', 'State University', 2012, 'Human Resources'),\n",
    "(2, 2, 'MSc', 'Tech Institute', 2017, 'Software Engineering'),\n",
    "(3, 3, 'PhD', 'Ivy College', 2019, 'Marketing Research'),\n",
    "(4, 4, 'MBA', 'Business School', 2018, 'Business Administration');\n",
    "\n",
    "\"\"\"} ]"
   ]
  },
  {
   "cell_type": "code",
   "execution_count": 4,
   "id": "330e69b0-3f5f-4bb2-8185-aedded2bb993",
   "metadata": {
    "id": "330e69b0-3f5f-4bb2-8185-aedded2bb993"
   },
   "outputs": [],
   "source": [
    "#FEW SHOT SAMPLES\n",
    "context.append( {'role':'system', 'content':\"\"\"\n",
    "-- Maintain the SQL order simple and efficient as you can, using valid SQL Lite, answer the following questions for the table provided above.\n",
    "-- Q1: Retrieve all employees and their base salary.\n",
    "-- This query retrieves the names of all employees along with their base salary\n",
    "-- by joining the 'employees' and 'salary' tables using 'ID_usr'.\n",
    "-- A:\n",
    "SELECT employees.name, salary.base\n",
    "FROM employees\n",
    "JOIN salary ON employees.ID_usr = salary.ID_usr;\n",
    "\n",
    "-- Q2: Find employees who have an MBA degree.\n",
    "-- This query finds the employees who hold an MBA degree by joining the\n",
    "-- 'employees' and 'studies' tables, filtering by the degree 'MBA'.\n",
    "-- A:\n",
    "SELECT employees.name\n",
    "FROM employees\n",
    "JOIN studies ON employees.ID_usr = studies.ID_usr\n",
    "WHERE studies.degree = 'MBA';\n",
    "\n",
    "-- Q3: Show the employees' total compensation (base salary + bonus).\n",
    "-- This query calculates the total compensation for each employee by adding\n",
    "-- the base salary and bonus, and displays the employee names and total compensation.\n",
    "-- A:\n",
    "SELECT employees.name, (salary.base + salary.bonus) AS total_compensation\n",
    "FROM employees\n",
    "JOIN salary ON employees.ID_usr = salary.ID_usr;\n",
    "\n",
    "-- Q4: Find all employees who joined after 2018 and have a bonus greater than 1000.\n",
    "-- This query retrieves the names of employees who joined after January 1, 2018\n",
    "-- and have a bonus greater than 1000 by filtering the 'employees' and 'salary' tables.\n",
    "-- A:\n",
    "SELECT employees.name\n",
    "FROM employees\n",
    "JOIN salary ON employees.ID_usr = salary.ID_usr\n",
    "WHERE employees.hire_date > '2018-01-01' AND salary.bonus > 1000;\n",
    "\n",
    "-- Q5: List all employees and their major subjects from the studies table.\n",
    "-- This query retrieves the names of employees along with their major field of study\n",
    "-- by joining the 'employees' and 'studies' tables.\n",
    "-- A:\n",
    "SELECT employees.name, studies.major\n",
    "FROM employees\n",
    "JOIN studies ON employees.ID_usr = studies.ID_usr;\n",
    "\n",
    "\"\"\"\n",
    "})"
   ]
  },
  {
   "cell_type": "code",
   "execution_count": 5,
   "id": "b90f417a",
   "metadata": {
    "id": "b90f417a"
   },
   "outputs": [],
   "source": [
    "#Functio to call the model.\n",
    "def return_CCRMSQL(user_message, context):\n",
    "    client = OpenAI(\n",
    "    # This is the default and can be omitted\n",
    "    api_key=OPENAI_API_KEY,\n",
    ")\n",
    "\n",
    "    newcontext = context.copy()\n",
    "    newcontext.append({'role':'user', 'content':\"question: \" + user_message})\n",
    "\n",
    "    response = client.chat.completions.create(\n",
    "            model=\"gpt-3.5-turbo\",\n",
    "            messages=newcontext,\n",
    "            temperature=0,\n",
    "        )\n",
    "\n",
    "    return (response.choices[0].message.content)"
   ]
  },
  {
   "cell_type": "markdown",
   "id": "9e0a4c11-dfe1-46fe-ac2b-3ff825f9749c",
   "metadata": {
    "id": "9e0a4c11-dfe1-46fe-ac2b-3ff825f9749c"
   },
   "source": [
    "## NL2SQL Samples\n",
    "We're going to review some examples generated with the old prompt and others with the new prompt."
   ]
  },
  {
   "cell_type": "markdown",
   "id": "6b649268",
   "metadata": {},
   "source": [
    "# Q1: Retrieve all employees and their base salary."
   ]
  },
  {
   "cell_type": "code",
   "execution_count": 6,
   "id": "59e8202c-ce34-487e-9037-c65a263423ed",
   "metadata": {
    "colab": {
     "base_uri": "https://localhost:8080/"
    },
    "id": "59e8202c-ce34-487e-9037-c65a263423ed",
    "outputId": "f7a97b9f-45d7-4f78-8979-a796c5bc42fb"
   },
   "outputs": [
    {
     "name": "stdout",
     "output_type": "stream",
     "text": [
      "```sql\n",
      "SELECT employees.name, salary.base\n",
      "FROM employees\n",
      "JOIN salary ON employees.ID_usr = salary.ID_usr;\n",
      "```\n"
     ]
    }
   ],
   "source": [
    "#new\n",
    "context_user = context.copy()\n",
    "print(return_CCRMSQL(\"Retrieve all employees and their base salary.\", context_user))"
   ]
  },
  {
   "cell_type": "code",
   "execution_count": 7,
   "id": "9c4766b1-48a9-456e-bc6c-4b6f41909aa4",
   "metadata": {
    "colab": {
     "base_uri": "https://localhost:8080/"
    },
    "id": "9c4766b1-48a9-456e-bc6c-4b6f41909aa4",
    "outputId": "029844da-5f1f-4f65-9adb-4d9c1cafacea"
   },
   "outputs": [
    {
     "name": "stdout",
     "output_type": "stream",
     "text": [
      "This is your SQL:\n",
      "```sql\n",
      "SELECT employees.name, salary.salary\n",
      "FROM employees\n",
      "JOIN salary ON employees.ID_usr = salary.ID_usr;\n",
      "```\n",
      "\n",
      "This SQL query retrieves the names of all employees along with their base salary by joining the \"employees\" table with the \"salary\" table on the common column \"ID_usr\".\n"
     ]
    }
   ],
   "source": [
    "#old\n",
    "old_context_user = old_context.copy()\n",
    "print(return_CCRMSQL(\"Retrieve all employees and their base salary.\", old_context_user))"
   ]
  },
  {
   "cell_type": "markdown",
   "id": "78d0eb7b",
   "metadata": {},
   "source": [
    "# Q2: Find employees who have an MBA degree."
   ]
  },
  {
   "cell_type": "code",
   "execution_count": 8,
   "id": "38d8d370-0524-4a28-bd54-5e5cddb08e2c",
   "metadata": {
    "colab": {
     "base_uri": "https://localhost:8080/"
    },
    "id": "38d8d370-0524-4a28-bd54-5e5cddb08e2c",
    "outputId": "2934cdec-bea0-44db-b047-33e70dcf8ae8"
   },
   "outputs": [
    {
     "name": "stdout",
     "output_type": "stream",
     "text": [
      "```sql\n",
      "SELECT employees.name\n",
      "FROM employees\n",
      "JOIN studies ON employees.ID_usr = studies.ID_usr\n",
      "WHERE studies.degree = 'MBA';\n",
      "```\n"
     ]
    }
   ],
   "source": [
    "#new\n",
    "print(return_CCRMSQL(\"Find employees who have an MBA degree.\", context_user))"
   ]
  },
  {
   "cell_type": "code",
   "execution_count": 9,
   "id": "5aa318d4-dd9f-41db-8ff4-c1d87220f766",
   "metadata": {
    "colab": {
     "base_uri": "https://localhost:8080/"
    },
    "id": "5aa318d4-dd9f-41db-8ff4-c1d87220f766",
    "outputId": "605724a1-0d89-4ed9-d8ec-1aeeae6dc287"
   },
   "outputs": [
    {
     "name": "stdout",
     "output_type": "stream",
     "text": [
      "This is your SQL:\n",
      "```sql\n",
      "SELECT e.name\n",
      "FROM employees e\n",
      "JOIN studies s ON e.ID_usr = s.ID_usr\n",
      "WHERE s.educational_level = 'MBA';\n",
      "```\n",
      "\n",
      "This SQL query selects the names of employees who have an MBA degree by joining the employees table with the studies table on the ID_usr field and filtering the results to only include rows where the educational level is 'MBA'.\n"
     ]
    }
   ],
   "source": [
    "#old\n",
    "print(return_CCRMSQL(\"Find employees who have an MBA degree.\", old_context_user))"
   ]
  },
  {
   "cell_type": "markdown",
   "id": "91f1133b",
   "metadata": {},
   "source": [
    "# Q3: Show the employees' total compensation (base salary + bonus)."
   ]
  },
  {
   "cell_type": "code",
   "execution_count": 10,
   "id": "d55b9955",
   "metadata": {},
   "outputs": [
    {
     "name": "stdout",
     "output_type": "stream",
     "text": [
      "Here is the SQL query to show the employees' total compensation (base salary + bonus):\n",
      "\n",
      "```sql\n",
      "SELECT employees.name, (salary.base + salary.bonus) AS total_compensation\n",
      "FROM employees\n",
      "JOIN salary ON employees.ID_usr = salary.ID_usr;\n",
      "```\n",
      "\n",
      "This query will display the names of employees along with their total compensation calculated by adding their base salary and bonus.\n"
     ]
    }
   ],
   "source": [
    "#new\n",
    "context_user = context.copy()\n",
    "print(return_CCRMSQL(\"Show the employees' total compensation (base salary + bonus).\", context_user))"
   ]
  },
  {
   "cell_type": "code",
   "execution_count": 11,
   "id": "eadef1f8",
   "metadata": {},
   "outputs": [
    {
     "name": "stdout",
     "output_type": "stream",
     "text": [
      "This is your SQL:\n",
      "```sql\n",
      "SELECT e.ID_usr, (s.salary + s.bonus) AS total_compensation\n",
      "FROM employees e\n",
      "JOIN salary s ON e.ID_usr = s.ID_usr;\n",
      "```\n",
      "\n",
      "This SQL query retrieves the total compensation of employees by summing their base salary and bonus from the \"salary\" table, joining it with the \"employees\" table on the employee ID.\n"
     ]
    }
   ],
   "source": [
    "#old\n",
    "old_context_user = old_context.copy()\n",
    "print(return_CCRMSQL(\"Show the employees' total compensation (base salary + bonus).\", old_context_user))"
   ]
  },
  {
   "cell_type": "markdown",
   "id": "0f31968e-74ad-4ae2-9537-b3d550b1be47",
   "metadata": {
    "id": "0f31968e-74ad-4ae2-9537-b3d550b1be47"
   },
   "source": [
    "# Exercise\n",
    " - Complete the prompts similar to what we did in class. \n",
    "     - Try at least 3 versions\n",
    "     - Be creative\n",
    " - Write a one page report summarizing your findings.\n",
    "     - Were there variations that didn't work well? i.e., where GPT either hallucinated or wrong.\n",
    "     - What did you learn?"
   ]
  }
 ],
 "metadata": {
  "colab": {
   "include_colab_link": true,
   "provenance": []
  },
  "kernelspec": {
   "display_name": "Python 3",
   "language": "python",
   "name": "python3"
  },
  "language_info": {
   "codemirror_mode": {
    "name": "ipython",
    "version": 3
   },
   "file_extension": ".py",
   "mimetype": "text/x-python",
   "name": "python",
   "nbconvert_exporter": "python",
   "pygments_lexer": "ipython3",
   "version": "3.13.2"
  }
 },
 "nbformat": 4,
 "nbformat_minor": 5
}
